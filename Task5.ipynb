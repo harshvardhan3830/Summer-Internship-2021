{
 "cells": [
  {
   "cell_type": "markdown",
   "source": [
    "## HARSHVARDHAN\n",
    "## AIRSS1221\n",
    "## TASK5"
   ],
   "metadata": {}
  },
  {
   "cell_type": "markdown",
   "source": [
    "## Ques1 :- Given a list of integers, write a function to return the sum of all prime numbers in that list."
   ],
   "metadata": {}
  },
  {
   "cell_type": "code",
   "execution_count": 1,
   "source": [
    "def primeSum(arr,n):\r\n",
    "    max_val = max(arr)\r\n",
    "    prime=[True for i in range(max_val+ 1)]\r\n",
    "    prime[0]=False\r\n",
    "    prime[1]=False\r\n",
    "    for p in range (2,max_val+1):\r\n",
    "        if(p*p>max_val):\r\n",
    "            break\r\n",
    "        if(prime[p]==True):\r\n",
    "            for i in range(p*2, max_val+1,p):\r\n",
    "                prime[i]=False\r\n",
    "                \r\n",
    "    sum=0\r\n",
    "    for i in range(n):\r\n",
    "        if(prime[arr[i]]):\r\n",
    "            sum+=arr[i]\r\n",
    "    return sum\r\n",
    "\r\n",
    "\r\n",
    "\r\n",
    "arr=[1,2,3,4,5,6,7,8,9,10,11,12,13,14,15,16]\r\n",
    "n=len(arr)\r\n",
    "print(primeSum(arr,n))"
   ],
   "outputs": [
    {
     "output_type": "stream",
     "name": "stdout",
     "text": [
      "41\n"
     ]
    }
   ],
   "metadata": {}
  },
  {
   "cell_type": "markdown",
   "source": [
    "## Ques 2:- Given a list of integers, write a function to check whether the list is strictly increasing or not."
   ],
   "metadata": {}
  },
  {
   "cell_type": "markdown",
   "source": [],
   "metadata": {}
  },
  {
   "cell_type": "code",
   "execution_count": 1,
   "source": [
    "list1=[1,4,5,7,8,10,11,15,16]\r\n",
    "print('Origianl list : ' +str(list1))\r\n",
    "res=bool(lambda list1:reduce(lambda i, j:j if i<j else 9999, list1)!=9999)\r\n",
    "\r\n",
    "print(\"Is List strictly increasing ? : \"+ str(res))"
   ],
   "outputs": [
    {
     "output_type": "stream",
     "name": "stdout",
     "text": [
      "Origianl list : [1, 4, 5, 7, 8, 10, 11, 15, 16]\n",
      "Is List strictly increasing ? : True\n"
     ]
    }
   ],
   "metadata": {}
  },
  {
   "cell_type": "code",
   "execution_count": null,
   "source": [
    "m"
   ],
   "outputs": [],
   "metadata": {}
  },
  {
   "cell_type": "markdown",
   "source": [
    "## Ques 3:- Write a function to check whether a given list is expanding or not (the difference between adjacent elements should keep on increasing)."
   ],
   "metadata": {}
  },
  {
   "cell_type": "code",
   "execution_count": 7,
   "source": [
    "def expending(l):\r\n",
    "    dif=abs(l[1]-l[0])\r\n",
    "    for i in range(1, len(l)-1):\r\n",
    "        temp=abs(l[i+1]-l[i])\r\n",
    "        if temp<dif:\r\n",
    "            return False\r\n",
    "        else:\r\n",
    "            dif=temp\r\n",
    "\r\n",
    "    return True\r\n",
    "print(expending(list1))"
   ],
   "outputs": [
    {
     "output_type": "stream",
     "name": "stdout",
     "text": [
      "False\n"
     ]
    }
   ],
   "metadata": {}
  },
  {
   "cell_type": "markdown",
   "source": [
    "## Ques4:- Write a function to calculate all permutations of a given string. (Without using itertools)"
   ],
   "metadata": {}
  },
  {
   "cell_type": "code",
   "execution_count": 14,
   "source": [
    "def toString(List):\r\n",
    "    return ''.join(List)\r\n",
    "\r\n",
    "def permute(a,l,r):\r\n",
    "    if l==r:\r\n",
    "        print(toString)\r\n",
    "    else:\r\n",
    "        for i in range(l,r+1):\r\n",
    "            a[l],a[i]=a[i],a[l]\r\n",
    "            permute(a,l+1,r)\r\n",
    "            a[l],a[i]=a[i],a[l]\r\n",
    "\r\n",
    "string='ABC'\r\n",
    "n=len(string)\r\n",
    "a=list(string)\r\n",
    "permute(a, 0, n-1)"
   ],
   "outputs": [
    {
     "output_type": "stream",
     "name": "stdout",
     "text": [
      "<function toString at 0x0000018D6C6FC4C0>\n",
      "<function toString at 0x0000018D6C6FC4C0>\n",
      "<function toString at 0x0000018D6C6FC4C0>\n",
      "<function toString at 0x0000018D6C6FC4C0>\n",
      "<function toString at 0x0000018D6C6FC4C0>\n",
      "<function toString at 0x0000018D6C6FC4C0>\n"
     ]
    }
   ],
   "metadata": {}
  },
  {
   "cell_type": "code",
   "execution_count": null,
   "source": [],
   "outputs": [],
   "metadata": {}
  }
 ],
 "metadata": {
  "kernelspec": {
   "name": "python3",
   "display_name": "Python 3.8.8 64-bit ('base': conda)"
  },
  "language_info": {
   "codemirror_mode": {
    "name": "ipython",
    "version": 3
   },
   "file_extension": ".py",
   "mimetype": "text/x-python",
   "name": "python",
   "nbconvert_exporter": "python",
   "pygments_lexer": "ipython3",
   "version": "3.8.8"
  },
  "interpreter": {
   "hash": "808ad7c93abbf9a56b4a09c1cf3921f1394b5277ffab64f7b492bab75ec6ca41"
  }
 },
 "nbformat": 4,
 "nbformat_minor": 5
}