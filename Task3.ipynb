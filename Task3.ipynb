{
 "cells": [
  {
   "cell_type": "markdown",
   "id": "da8806a9",
   "metadata": {},
   "source": [
    "## TASK 3\n",
    "## HARSHVARDHAN\n",
    "## AIRSS1221\n"
   ]
  },
  {
   "cell_type": "markdown",
   "id": "f6245fe5",
   "metadata": {},
   "source": [
    "## Ques1:- Write a function to return nth term of Fibonacci sequence."
   ]
  },
  {
   "cell_type": "code",
   "execution_count": 3,
   "id": "64aad021",
   "metadata": {},
   "outputs": [
    {
     "name": "stdout",
     "output_type": "stream",
     "text": [
      "34\n"
     ]
    }
   ],
   "source": [
    "def fibonacci(n):\n",
    "    if n<=0 :\n",
    "        print('Incorrect Input')\n",
    "    elif n==1:\n",
    "        return 0\n",
    "    elif n==2:\n",
    "        return 1\n",
    "    else:\n",
    "        return fibonacci(n-1)+fibonacci(n-2)\n",
    "    \n",
    "print(fibonacci(10))"
   ]
  },
  {
   "cell_type": "markdown",
   "id": "db566044",
   "metadata": {},
   "source": [
    "## Ques2:- Write a function to find out GCD of two numbers using EUCLID'S algorithm."
   ]
  },
  {
   "cell_type": "code",
   "execution_count": 5,
   "id": "973100d0",
   "metadata": {},
   "outputs": [
    {
     "name": "stdout",
     "output_type": "stream",
     "text": [
      "GCD of  60  and  48 is  12\n"
     ]
    }
   ],
   "source": [
    "def gcd(a,b):\n",
    "    if(a==0):\n",
    "        return b\n",
    "    if(b==0):\n",
    "        return a\n",
    "    \n",
    "    if(a>b):\n",
    "        return gcd(a-b,b)\n",
    "    return gcd(a,b-a)\n",
    "\n",
    "a=60\n",
    "b=48\n",
    "\n",
    "if(gcd(a,b)):\n",
    "    print('GCD of ',a,' and ',b,'is ',gcd(a,b))\n",
    "    \n",
    "else:\n",
    "    print('not found')"
   ]
  },
  {
   "cell_type": "markdown",
   "id": "91727182",
   "metadata": {},
   "source": [
    "## Ques3:- Write a function to find LCM of two number in most optimizers way."
   ]
  },
  {
   "cell_type": "code",
   "execution_count": 9,
   "id": "dc4d7ce3",
   "metadata": {},
   "outputs": [
    {
     "name": "stdout",
     "output_type": "stream",
     "text": [
      "The lcm of  3  and  5  is :  15\n"
     ]
    }
   ],
   "source": [
    "def gcd(x,y):\n",
    "    while(y):\n",
    "        x,y=y,x%y\n",
    "    return x\n",
    "\n",
    "def compute_lcm(x,y):\n",
    "    lcm=(x*y)//gcd(x,y)\n",
    "    return lcm\n",
    "\n",
    "a=3\n",
    "b=5\n",
    "\n",
    "print(\"The lcm of \",a,' and ',b,' is : ', lcm(a,b))"
   ]
  },
  {
   "cell_type": "code",
   "execution_count": null,
   "id": "a7d43360",
   "metadata": {},
   "outputs": [],
   "source": []
  }
 ],
 "metadata": {
  "kernelspec": {
   "display_name": "Python 3",
   "language": "python",
   "name": "python3"
  },
  "language_info": {
   "codemirror_mode": {
    "name": "ipython",
    "version": 3
   },
   "file_extension": ".py",
   "mimetype": "text/x-python",
   "name": "python",
   "nbconvert_exporter": "python",
   "pygments_lexer": "ipython3",
   "version": "3.8.8"
  }
 },
 "nbformat": 4,
 "nbformat_minor": 5
}
