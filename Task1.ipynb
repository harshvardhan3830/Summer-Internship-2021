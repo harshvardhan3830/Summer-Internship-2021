{
 "cells": [
  {
   "cell_type": "markdown",
   "source": [
    "## #Task 1\r\n",
    "## AIRSS1221\r\n",
    "## HARSHVARDHAN\r\n"
   ],
   "metadata": {}
  },
  {
   "cell_type": "markdown",
   "source": [
    "## Question 1\n"
   ],
   "metadata": {}
  },
  {
   "cell_type": "code",
   "execution_count": 6,
   "source": [
    "rows=int(input('Enter number of rows: '))\r\n",
    "for i in range(rows+1,0,-1):\r\n",
    "    for j in range(0, i-1):\r\n",
    "        print('5',end='')\r\n",
    "    print('')"
   ],
   "outputs": [
    {
     "output_type": "stream",
     "name": "stdout",
     "text": [
      "Enter number of rows: 5\n",
      "55555\n",
      "5555\n",
      "555\n",
      "55\n",
      "5\n",
      "\n"
     ]
    }
   ],
   "metadata": {}
  },
  {
   "cell_type": "markdown",
   "source": [
    "## Question 2"
   ],
   "metadata": {}
  },
  {
   "cell_type": "code",
   "execution_count": 7,
   "source": [
    "row=int(input('Enter number of rows :'))\r\n",
    "for i in range(rows,0,-1):\r\n",
    "    for j in range(0,i+1):\r\n",
    "        print(j,end='')\r\n",
    "    print('\\r')"
   ],
   "outputs": [
    {
     "output_type": "stream",
     "name": "stdout",
     "text": [
      "Enter number of rows :5\n",
      "012345\n",
      "01234\n",
      "0123\n",
      "012\n",
      "01\n"
     ]
    }
   ],
   "metadata": {}
  },
  {
   "cell_type": "markdown",
   "source": [
    "## Question 3"
   ],
   "metadata": {}
  },
  {
   "cell_type": "code",
   "execution_count": 8,
   "source": [
    "row=int(input('Enter number of rows : '))\r\n",
    "i=1\r\n",
    "while i<=rows:\r\n",
    "    j=1\r\n",
    "    while j<=i:\r\n",
    "        print((i*2-1), end='')\r\n",
    "        j=j+1\r\n",
    "    i=i+1\r\n",
    "    print()"
   ],
   "outputs": [
    {
     "output_type": "stream",
     "name": "stdout",
     "text": [
      "Enter number of rows : 5\n",
      "1\n",
      "33\n",
      "555\n",
      "7777\n",
      "99999\n"
     ]
    }
   ],
   "metadata": {}
  },
  {
   "cell_type": "markdown",
   "source": [
    "## Question 4"
   ],
   "metadata": {}
  },
  {
   "cell_type": "code",
   "execution_count": 9,
   "source": [
    "row=int(input('Enter number of rows : '))\n",
    "for row in range(1,rows):\n",
    "    for column in range(row,0,-1):\n",
    "        print(column, end='')\n",
    "    print('')"
   ],
   "outputs": [
    {
     "output_type": "stream",
     "name": "stdout",
     "text": [
      "Enter number of rows : 5\n",
      "1\n",
      "21\n",
      "321\n",
      "4321\n"
     ]
    }
   ],
   "metadata": {}
  },
  {
   "cell_type": "markdown",
   "source": [
    "## Question 5"
   ],
   "metadata": {}
  },
  {
   "cell_type": "code",
   "execution_count": 10,
   "source": [
    "a = 1\n",
    "b = 2\n",
    "currentNumber = b\n",
    "for row in range(2, 6):\n",
    "    for col in range(a, b):\n",
    "        currentNumber -= 1\n",
    "        print(currentNumber, end=' ')\n",
    "    print(' ')\n",
    "    a = b\n",
    "    b += row\n",
    "    currentNumber = b"
   ],
   "outputs": [
    {
     "output_type": "stream",
     "name": "stdout",
     "text": [
      "1  \n",
      "3 2  \n",
      "6 5 4  \n",
      "10 9 8 7  \n"
     ]
    }
   ],
   "metadata": {}
  },
  {
   "cell_type": "markdown",
   "source": [
    "## Question 6"
   ],
   "metadata": {}
  },
  {
   "cell_type": "code",
   "execution_count": 11,
   "source": [
    "from math import factorial\n",
    "n = 5\n",
    "for i in range(n):\n",
    "    for j in range(n-i+1):\n",
    "        print(end=\" \")\n",
    " \n",
    "    for j in range(i+1):\n",
    "        print(factorial(i)//(factorial(j)*factorial(i-j)), end=\" \")\n",
    "    print()"
   ],
   "outputs": [
    {
     "output_type": "stream",
     "name": "stdout",
     "text": [
      "      1 \n",
      "     1 1 \n",
      "    1 2 1 \n",
      "   1 3 3 1 \n",
      "  1 4 6 4 1 \n"
     ]
    }
   ],
   "metadata": {}
  },
  {
   "cell_type": "markdown",
   "source": [
    "## Question 7"
   ],
   "metadata": {}
  },
  {
   "cell_type": "code",
   "execution_count": 12,
   "source": [
    "rows = int(input(\"Enter the number of rows: \"))  \n",
    "for i in range(1, rows + 1):  \n",
    "    for j in range(1, rows + 1):   \n",
    "        if j <= i:  \n",
    "            print(i, end=' ')  \n",
    "        else:  \n",
    "            print(j, end=' ')  \n",
    "    print()  "
   ],
   "outputs": [
    {
     "output_type": "stream",
     "name": "stdout",
     "text": [
      "Enter the number of rows: 5\n",
      "1 2 3 4 5 \n",
      "2 2 3 4 5 \n",
      "3 3 3 4 5 \n",
      "4 4 4 4 5 \n",
      "5 5 5 5 5 \n"
     ]
    }
   ],
   "metadata": {}
  },
  {
   "cell_type": "markdown",
   "source": [
    "## Question 8"
   ],
   "metadata": {}
  },
  {
   "cell_type": "code",
   "execution_count": 13,
   "source": [
    "rows = int(input(\"Enter the number of rows: \"))  \n",
    "for i in range(1, rows+1):  \n",
    "    for j in range(1, i + 1):   \n",
    "        print(i * j, end='  ')  \n",
    "    print()  "
   ],
   "outputs": [
    {
     "output_type": "stream",
     "name": "stdout",
     "text": [
      "Enter the number of rows: 5\n",
      "1  \n",
      "2  4  \n",
      "3  6  9  \n",
      "4  8  12  16  \n",
      "5  10  15  20  25  \n"
     ]
    }
   ],
   "metadata": {}
  },
  {
   "cell_type": "markdown",
   "source": [
    "## Question 9\n"
   ],
   "metadata": {}
  },
  {
   "cell_type": "code",
   "execution_count": 14,
   "source": [
    "rows = int(input(\"Enter the number of rows: \")) \n",
    "k = 2 * rows - 2  \n",
    "for i in range(rows, -1, -1):  \n",
    "    for j in range(k, 0, -1):  \n",
    "        print(end=\" \")  \n",
    "    k = k + 1  \n",
    "    for j in range(0, i + 1):  \n",
    "        print(\"*\", end=\" \")  \n",
    "    print(\"\")  "
   ],
   "outputs": [
    {
     "output_type": "stream",
     "name": "stdout",
     "text": [
      "Enter the number of rows: 5\n",
      "        * * * * * * \n",
      "         * * * * * \n",
      "          * * * * \n",
      "           * * * \n",
      "            * * \n",
      "             * \n"
     ]
    }
   ],
   "metadata": {}
  },
  {
   "cell_type": "markdown",
   "source": [
    "## Question 10\n"
   ],
   "metadata": {}
  },
  {
   "cell_type": "code",
   "execution_count": 15,
   "source": [
    "n = int(input(\"Enter the number of rows: \"))  \n",
    "m = (2 * n) - 2  \n",
    "for i in range(0, n):  \n",
    "    for j in range(0, m):  \n",
    "        print(end=\" \")  \n",
    "    m = m - 1    \n",
    "    for j in range(0, i + 1):  \n",
    "        print(\"* \", end=' ')  \n",
    "    print(\" \")  "
   ],
   "outputs": [
    {
     "output_type": "stream",
     "name": "stdout",
     "text": [
      "Enter the number of rows: 5\n",
      "        *   \n",
      "       *  *   \n",
      "      *  *  *   \n",
      "     *  *  *  *   \n",
      "    *  *  *  *  *   \n"
     ]
    }
   ],
   "metadata": {}
  },
  {
   "cell_type": "markdown",
   "source": [
    "## Question 11"
   ],
   "metadata": {}
  },
  {
   "cell_type": "code",
   "execution_count": 16,
   "source": [
    "rows=int(input('Enter number of rows: '))\n",
    "for i in range(0,rows):\n",
    "    for j in range(0,i+1):\n",
    "        print('*', end='')\n",
    "    print('')\n",
    "print('\\r')\n",
    "for i in range(rows+1,0,-1):\n",
    "    for j in range(0, i-1):\n",
    "        print('*',end='')\n",
    "    print('')\n",
    "\n"
   ],
   "outputs": [
    {
     "output_type": "stream",
     "name": "stdout",
     "text": [
      "Enter number of rows: 5\n",
      "*\n",
      "**\n",
      "***\n",
      "****\n",
      "*****\n",
      "\n",
      "*****\n",
      "****\n",
      "***\n",
      "**\n",
      "*\n",
      "\n"
     ]
    }
   ],
   "metadata": {}
  },
  {
   "cell_type": "markdown",
   "source": [
    "## Question 12"
   ],
   "metadata": {}
  },
  {
   "cell_type": "code",
   "execution_count": 17,
   "source": [
    "rows=int(input('Enter number of rows: '))\n",
    "for i in range(0,rows):\n",
    "    for j in range(0,i+1):\n",
    "        print('*', end='')\n",
    "    print('')\n",
    "for i in range(rows,0,-1):\n",
    "    for j in range(0, i-1):\n",
    "        print('*',end='')\n",
    "    print('')\n",
    "\n"
   ],
   "outputs": [
    {
     "output_type": "stream",
     "name": "stdout",
     "text": [
      "Enter number of rows: 5\n",
      "*\n",
      "**\n",
      "***\n",
      "****\n",
      "*****\n",
      "****\n",
      "***\n",
      "**\n",
      "*\n",
      "\n"
     ]
    }
   ],
   "metadata": {}
  },
  {
   "cell_type": "markdown",
   "source": [
    "## Question 13"
   ],
   "metadata": {}
  },
  {
   "cell_type": "code",
   "execution_count": 18,
   "source": [
    "rows = int(input(\"Enter the number of rows: \"))  \n",
    "k = 2 * rows - 2  \n",
    "for i in range(0, rows):  \n",
    "    for j in range(0, k):  \n",
    "        print(end=\" \")  \n",
    "    k = k - 1  \n",
    "    for j in range(0, i + 1):  \n",
    "        print(\"*\", end=\"\")  \n",
    "    print(\"\")  \n",
    "  \n",
    "k = rows - 2  \n",
    "for i in range(rows, -1, -1):  \n",
    "    for j in range(k, 0, -1):  \n",
    "        print(end=\" \")  \n",
    "    k = k + 1  \n",
    "    for j in range(0, i + 1):  \n",
    "        print(\"*\", end=\"\")  \n",
    "    print(\"\")  "
   ],
   "outputs": [
    {
     "output_type": "stream",
     "name": "stdout",
     "text": [
      "Enter the number of rows: 5\n",
      "        *\n",
      "       **\n",
      "      ***\n",
      "     ****\n",
      "    *****\n",
      "   ******\n",
      "    *****\n",
      "     ****\n",
      "      ***\n",
      "       **\n",
      "        *\n"
     ]
    }
   ],
   "metadata": {}
  },
  {
   "cell_type": "markdown",
   "source": [
    "## Question 14"
   ],
   "metadata": {}
  },
  {
   "cell_type": "code",
   "execution_count": 19,
   "source": [
    "rows = int(input(\"Enter the number of rows: \"))  \n",
    "k = 2 * rows - 2  \n",
    "for i in range(0, rows):  \n",
    "    for j in range(0, k):  \n",
    "        print(end=\" \")  \n",
    "    k = k - 1  \n",
    "    for j in range(0, i + 1):  \n",
    "        print(\"* \", end=\"\")  \n",
    "    print(\"\")  \n",
    "  \n",
    "k = rows - 2  \n",
    "for i in range(rows, -1, -1):    \n",
    "    for j in range(k, 0, -1):  \n",
    "        print(end=\" \")  \n",
    "    k = k + 1  \n",
    "    for j in range(0, i + 1):  \n",
    "        print(\"* \", end=\"\")  \n",
    "    print(\"\")  "
   ],
   "outputs": [
    {
     "output_type": "stream",
     "name": "stdout",
     "text": [
      "Enter the number of rows: 5\n",
      "        * \n",
      "       * * \n",
      "      * * * \n",
      "     * * * * \n",
      "    * * * * * \n",
      "   * * * * * * \n",
      "    * * * * * \n",
      "     * * * * \n",
      "      * * * \n",
      "       * * \n",
      "        * \n"
     ]
    }
   ],
   "metadata": {}
  },
  {
   "cell_type": "markdown",
   "source": [
    "## Question 15\n"
   ],
   "metadata": {}
  },
  {
   "cell_type": "code",
   "execution_count": 20,
   "source": [
    "rows = int(input('Enter number of rows : '))\n",
    "print(\"*\" * rows, end=\"\\n\")\n",
    "i = (rows // 2) - 1\n",
    "j = 2\n",
    "while i != 0:\n",
    "    while j <= (rows - 2):\n",
    "        print(\"*\" * i, end=\"\")\n",
    "        print(\"_\" * j, end=\"\")\n",
    "        print(\"*\" * i, end=\"\\n\")\n",
    "        i = i - 1\n",
    "        j = j + 2"
   ],
   "outputs": [
    {
     "output_type": "stream",
     "name": "stdout",
     "text": [
      "Enter number of rows : 14\n",
      "**************\n",
      "******__******\n",
      "*****____*****\n",
      "****______****\n",
      "***________***\n",
      "**__________**\n",
      "*____________*\n"
     ]
    }
   ],
   "metadata": {}
  },
  {
   "cell_type": "code",
   "execution_count": null,
   "source": [],
   "outputs": [],
   "metadata": {}
  }
 ],
 "metadata": {
  "kernelspec": {
   "display_name": "Python 3 (ipykernel)",
   "language": "python",
   "name": "python3"
  },
  "language_info": {
   "codemirror_mode": {
    "name": "ipython",
    "version": 3
   },
   "file_extension": ".py",
   "mimetype": "text/x-python",
   "name": "python",
   "nbconvert_exporter": "python",
   "pygments_lexer": "ipython3",
   "version": "3.9.6"
  }
 },
 "nbformat": 4,
 "nbformat_minor": 5
}