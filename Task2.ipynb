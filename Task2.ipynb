{
 "cells": [
  {
   "cell_type": "markdown",
   "id": "5ad61258",
   "metadata": {},
   "source": [
    "## TASK2\n",
    "## HARSHVARDHAN\n",
    "## AIRSS1221"
   ]
  },
  {
   "cell_type": "markdown",
   "id": "8312f581",
   "metadata": {},
   "source": [
    "## QUES1:-Write a lambda expression to extract first word of a string."
   ]
  },
  {
   "cell_type": "code",
   "execution_count": 14,
   "id": "1da6df44",
   "metadata": {},
   "outputs": [
    {
     "name": "stdout",
     "output_type": "stream",
     "text": [
      "hello\n"
     ]
    }
   ],
   "source": [
    "s ='hello string'\n",
    "x = lambda s: s.split().pop(0)\n",
    "print(x(s))"
   ]
  },
  {
   "cell_type": "markdown",
   "id": "1c6b6626",
   "metadata": {},
   "source": [
    "## Ques2:- Write a function to extract first word of s string (with many words separated by space)."
   ]
  },
  {
   "cell_type": "code",
   "execution_count": 7,
   "id": "ade2683d",
   "metadata": {},
   "outputs": [
    {
     "data": {
      "text/plain": [
       "'with'"
      ]
     },
     "execution_count": 7,
     "metadata": {},
     "output_type": "execute_result"
    }
   ],
   "source": [
    "def first_word():\n",
    "    string = \"with many words separated by space\"\n",
    "    return string.split().pop(0)\n",
    "first_word()"
   ]
  },
  {
   "cell_type": "markdown",
   "id": "d14d1cd6",
   "metadata": {},
   "source": [
    "## Ques 3:- Extract the first word from every string from a list of strings by using map function."
   ]
  },
  {
   "cell_type": "code",
   "execution_count": 8,
   "id": "f1c7c728",
   "metadata": {},
   "outputs": [
    {
     "ename": "TypeError",
     "evalue": "'list' object is not callable",
     "output_type": "error",
     "traceback": [
      "\u001b[1;31m---------------------------------------------------------------------------\u001b[0m",
      "\u001b[1;31mTypeError\u001b[0m                                 Traceback (most recent call last)",
      "\u001b[1;32mC:\\Users\\HARSHV~1\\AppData\\Local\\Temp/ipykernel_1012/2055169011.py\u001b[0m in \u001b[0;36m<module>\u001b[1;34m\u001b[0m\n\u001b[0;32m      1\u001b[0m \u001b[0mstrings\u001b[0m\u001b[1;33m=\u001b[0m\u001b[1;33m[\u001b[0m\u001b[1;34m'Hello world'\u001b[0m\u001b[1;33m,\u001b[0m\u001b[1;34m'this is harshvardhan'\u001b[0m\u001b[1;33m,\u001b[0m\u001b[1;34m'hey there'\u001b[0m\u001b[1;33m]\u001b[0m\u001b[1;33m\u001b[0m\u001b[1;33m\u001b[0m\u001b[0m\n\u001b[0;32m      2\u001b[0m \u001b[0mfirst_word_of_strings\u001b[0m\u001b[1;33m=\u001b[0m\u001b[0mmap\u001b[0m\u001b[1;33m(\u001b[0m\u001b[0mfirst_word\u001b[0m\u001b[1;33m,\u001b[0m\u001b[0mstrings\u001b[0m\u001b[1;33m)\u001b[0m\u001b[1;33m\u001b[0m\u001b[1;33m\u001b[0m\u001b[0m\n\u001b[1;32m----> 3\u001b[1;33m \u001b[0mwords\u001b[0m \u001b[1;33m=\u001b[0m \u001b[0mlist\u001b[0m\u001b[1;33m(\u001b[0m\u001b[0mfirst_word_of_strings\u001b[0m\u001b[1;33m)\u001b[0m\u001b[1;33m\u001b[0m\u001b[1;33m\u001b[0m\u001b[0m\n\u001b[0m\u001b[0;32m      4\u001b[0m \u001b[0mprint\u001b[0m\u001b[1;33m(\u001b[0m\u001b[0mwords\u001b[0m\u001b[1;33m)\u001b[0m\u001b[1;33m\u001b[0m\u001b[1;33m\u001b[0m\u001b[0m\n",
      "\u001b[1;31mTypeError\u001b[0m: 'list' object is not callable"
     ]
    }
   ],
   "source": [
    "strings=['Hello w orld','this is harshvardhan','hey there']\n",
    "first_word_of_strings=map(first_word,strings)\n",
    "words = list(first_word_of_strings)\n",
    "print(words)"
   ]
  },
  {
   "cell_type": "code",
   "execution_count": 5,
   "id": "e6361768",
   "metadata": {},
   "outputs": [
    {
     "data": {
      "text/plain": [
       "['hello', 'hey', 'live']"
      ]
     },
     "execution_count": 5,
     "metadata": {},
     "output_type": "execute_result"
    }
   ],
   "source": [
    "s = [\"hello world\", \"hey there\", \"live your life\"]\n",
    "\n",
    "def first_word(s):\n",
    "    return s.split().pop(0)\n",
    "    \n",
    "\n",
    "result = map(first_word , s)\n",
    "list(result)"
   ]
  },
  {
   "cell_type": "markdown",
   "id": "ad80e75b",
   "metadata": {},
   "source": [
    "## Ques 4:- Write a function to return a list of prime factors of a given number."
   ]
  },
  {
   "cell_type": "code",
   "execution_count": 5,
   "id": "507f5db3",
   "metadata": {},
   "outputs": [
    {
     "name": "stdout",
     "output_type": "stream",
     "text": [
      "2\n",
      "2\n",
      "2\n",
      "5\n",
      "5\n"
     ]
    }
   ],
   "source": [
    "import math\n",
    "def prime_factors(num): \n",
    "    while num % 2 == 0:  \n",
    "        print(2,)  \n",
    "        num = num / 2 \n",
    "    for i in range(3, int(math.sqrt(num)) + 1, 2):  \n",
    "        while num % i == 0:  \n",
    "            print(i,)  \n",
    "            num = num / i  \n",
    "    if num > 2:  \n",
    "        print(num)  \n",
    "num = 200  \n",
    "prime_factors(num)"
   ]
  },
  {
   "cell_type": "markdown",
   "id": "497d8e0a",
   "metadata": {},
   "source": [
    "## Ques 5:- Write a function that finds 2nd largest among 4 numbers (Repetitions are allowed,without sorting)."
   ]
  },
  {
   "cell_type": "code",
   "execution_count": 19,
   "id": "72bb0eff",
   "metadata": {},
   "outputs": [
    {
     "name": "stdout",
     "output_type": "stream",
     "text": [
      "Second highest number is :  20\n"
     ]
    }
   ],
   "source": [
    "list1 = [10, 20, 4, 45]\n",
    " \n",
    "mx=max(list1[0],list1[1])\n",
    "secondmax=min(list1[0],list1[1])\n",
    "n =len(list1)\n",
    "for i in range(2,n):\n",
    "    if list1[i]>mx:\n",
    "        secondmax=mx\n",
    "        mx=list1[i]\n",
    "    elif list1[i]>secondmax and mx != list1[i]:\n",
    "        secondmax=list1[i]\n",
    " \n",
    "print(\"Second highest number is : \",str(secondmax))"
   ]
  },
  {
   "cell_type": "code",
   "execution_count": null,
   "id": "0bc7b4cc",
   "metadata": {},
   "outputs": [],
   "source": []
  }
 ],
 "metadata": {
  "kernelspec": {
   "display_name": "Python 3 (ipykernel)",
   "language": "python",
   "name": "python3"
  },
  "language_info": {
   "codemirror_mode": {
    "name": "ipython",
    "version": 3
   },
   "file_extension": ".py",
   "mimetype": "text/x-python",
   "name": "python",
   "nbconvert_exporter": "python",
   "pygments_lexer": "ipython3",
   "version": "3.9.6"
  }
 },
 "nbformat": 4,
 "nbformat_minor": 5
}
